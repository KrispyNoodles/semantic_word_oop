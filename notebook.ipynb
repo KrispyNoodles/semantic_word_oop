{
 "cells": [
  {
   "cell_type": "code",
   "execution_count": 1,
   "id": "fc3cebc3",
   "metadata": {},
   "outputs": [
    {
     "data": {
      "text/plain": [
       "queen"
      ]
     },
     "execution_count": 1,
     "metadata": {},
     "output_type": "execute_result"
    }
   ],
   "source": [
    "from word_vector import WordVector\n",
    "\n",
    "king = WordVector(\"king\")\n",
    "male = WordVector(\"male\")\n",
    "female = WordVector(\"female\")\n",
    "\n",
    "result = king - male + female\n",
    "result"
   ]
  },
  {
   "cell_type": "code",
   "execution_count": null,
   "id": "72324610",
   "metadata": {},
   "outputs": [],
   "source": [
    "# to ensure that the result isnt removed (making it repeatable)\n",
    "WordVector.EXCLUDED_STEMS = []"
   ]
  },
  {
   "cell_type": "code",
   "execution_count": null,
   "id": "f1d01688",
   "metadata": {},
   "outputs": [],
   "source": []
  }
 ],
 "metadata": {
  "kernelspec": {
   "display_name": "nlp",
   "language": "python",
   "name": "python3"
  },
  "language_info": {
   "codemirror_mode": {
    "name": "ipython",
    "version": 3
   },
   "file_extension": ".py",
   "mimetype": "text/x-python",
   "name": "python",
   "nbconvert_exporter": "python",
   "pygments_lexer": "ipython3",
   "version": "3.11.13"
  }
 },
 "nbformat": 4,
 "nbformat_minor": 5
}
