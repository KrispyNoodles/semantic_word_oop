{
 "cells": [
  {
   "cell_type": "code",
   "execution_count": null,
   "id": "cc01414a",
   "metadata": {},
   "outputs": [],
   "source": [
    "# import gensim.downloader as api\n",
    "# from nltk.stem import PorterStemmer\n",
    "\n",
    "# class WordVector():    \n",
    "\n",
    "#     # loading the model, the model will be downloaded the first time\n",
    "#     MODEL = api.load(\"glove-twitter-200\")\n",
    "\n",
    "#     # excluding stems that were present before\n",
    "#     EXCLUDED_STEMS = []\n",
    "\n",
    "#     def __init__(self, text, vector=None):\n",
    "\n",
    "#         # initailising the text and vector\n",
    "#         self.text = text\n",
    "        \n",
    "#         # if a vector isnt sent then it will be created\n",
    "#         if vector is None:        \n",
    "#             self.vector = WordVector.MODEL.get_vector(text)\n",
    "\n",
    "#         else:\n",
    "#             self.vector = vector\n",
    "        \n",
    "#         # creating a list of stem words that is it not possible to recover back into \n",
    "#         WordVector.EXCLUDED_STEMS.append(PorterStemmer().stem(text))\n",
    "\n",
    "#     # generates the word\n",
    "#     def word_generator(self, new_vector):\n",
    "\n",
    "#         # retrieve the word\n",
    "#         # write a function which excludes the stem itself\n",
    "#         # if the entire list of results contains the stems of both the self and other words, it will result in an empty list causing an error\n",
    "#         result = WordVector.MODEL.most_similar([new_vector], topn=8)\n",
    "\n",
    "#         final_result = []\n",
    "\n",
    "#         # ignoring the similarity score and using the words only\n",
    "#         for word, _ in result:\n",
    "\n",
    "#             if PorterStemmer().stem(word) not in WordVector.EXCLUDED_STEMS:\n",
    "                \n",
    "#                 # final list exlcuding the words being used\n",
    "#                 final_result.append(word)\n",
    "\n",
    "#         # return an instance of the word to be further manipulated with if neccessary \n",
    "#         return WordVector(final_result[0], new_vector)\n",
    "\n",
    "#     # addition function\n",
    "#     def __add__(self, other):\n",
    "\n",
    "#         new_vector = self.vector + other.vector\n",
    "#         return WordVector.word_generator(self, new_vector)\n",
    "    \n",
    "#     # subtraction\n",
    "#     def __sub__(self, other):\n",
    "\n",
    "#         new_vector = self.vector - other.vector\n",
    "#         return WordVector.word_generator(self, new_vector)\n",
    "\n",
    "#     # printing the text \n",
    "#     def __repr__(self):\n",
    "#         return self.text\n",
    "\n",
    "#     # creating a class method to change the model being used\n",
    "#     @classmethod\n",
    "#     def update_model(cls, model_name):\n",
    "#         WordVector.MODEL = api.load(model_name)"
   ]
  },
  {
   "cell_type": "code",
   "execution_count": null,
   "id": "fc3cebc3",
   "metadata": {},
   "outputs": [
    {
     "name": "stdout",
     "output_type": "stream",
     "text": [
      "queen\n"
     ]
    }
   ],
   "source": [
    "from word_vector import WordVector\n",
    "\n",
    "king = WordVector(\"king\")\n",
    "male = WordVector(\"male\")\n",
    "female = WordVector(\"female\")\n",
    "\n",
    "result = king - male + female\n",
    "result"
   ]
  },
  {
   "cell_type": "code",
   "execution_count": null,
   "id": "72324610",
   "metadata": {},
   "outputs": [],
   "source": [
    "# to ensure that the result isnt removed (making it repeatable)\n",
    "WordVector.EXCLUDED_STEMS = []"
   ]
  }
 ],
 "metadata": {
  "kernelspec": {
   "display_name": "nlp",
   "language": "python",
   "name": "python3"
  },
  "language_info": {
   "codemirror_mode": {
    "name": "ipython",
    "version": 3
   },
   "file_extension": ".py",
   "mimetype": "text/x-python",
   "name": "python",
   "nbconvert_exporter": "python",
   "pygments_lexer": "ipython3",
   "version": "3.11.13"
  }
 },
 "nbformat": 4,
 "nbformat_minor": 5
}
